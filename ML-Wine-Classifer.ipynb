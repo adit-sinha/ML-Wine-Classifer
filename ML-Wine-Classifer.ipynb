{
  "nbformat": 4,
  "nbformat_minor": 0,
  "metadata": {
    "colab": {
      "provenance": [],
      "toc_visible": true
    },
    "kernelspec": {
      "name": "python3",
      "display_name": "Python 3"
    },
    "language_info": {
      "name": "python"
    },
    "widgets": {
      "application/vnd.jupyter.widget-state+json": {
        "186592ede81c4e468e2a6b965f89961b": {
          "model_module": "@jupyter-widgets/controls",
          "model_name": "CheckboxModel",
          "model_module_version": "1.5.0",
          "state": {
            "_dom_classes": [],
            "_model_module": "@jupyter-widgets/controls",
            "_model_module_version": "1.5.0",
            "_model_name": "CheckboxModel",
            "_view_count": null,
            "_view_module": "@jupyter-widgets/controls",
            "_view_module_version": "1.5.0",
            "_view_name": "CheckboxView",
            "description": "Show Plot",
            "description_tooltip": null,
            "disabled": false,
            "indent": true,
            "layout": "IPY_MODEL_6bede2bce98e4ca98c25c0b1b2506774",
            "style": "IPY_MODEL_bd4ac8113abe47a3b8f902d5956d7125",
            "value": false
          }
        },
        "6bede2bce98e4ca98c25c0b1b2506774": {
          "model_module": "@jupyter-widgets/base",
          "model_name": "LayoutModel",
          "model_module_version": "1.2.0",
          "state": {
            "_model_module": "@jupyter-widgets/base",
            "_model_module_version": "1.2.0",
            "_model_name": "LayoutModel",
            "_view_count": null,
            "_view_module": "@jupyter-widgets/base",
            "_view_module_version": "1.2.0",
            "_view_name": "LayoutView",
            "align_content": null,
            "align_items": null,
            "align_self": null,
            "border": null,
            "bottom": null,
            "display": null,
            "flex": null,
            "flex_flow": null,
            "grid_area": null,
            "grid_auto_columns": null,
            "grid_auto_flow": null,
            "grid_auto_rows": null,
            "grid_column": null,
            "grid_gap": null,
            "grid_row": null,
            "grid_template_areas": null,
            "grid_template_columns": null,
            "grid_template_rows": null,
            "height": null,
            "justify_content": null,
            "justify_items": null,
            "left": null,
            "margin": null,
            "max_height": null,
            "max_width": null,
            "min_height": null,
            "min_width": null,
            "object_fit": null,
            "object_position": null,
            "order": null,
            "overflow": null,
            "overflow_x": null,
            "overflow_y": null,
            "padding": null,
            "right": null,
            "top": null,
            "visibility": null,
            "width": null
          }
        },
        "bd4ac8113abe47a3b8f902d5956d7125": {
          "model_module": "@jupyter-widgets/controls",
          "model_name": "DescriptionStyleModel",
          "model_module_version": "1.5.0",
          "state": {
            "_model_module": "@jupyter-widgets/controls",
            "_model_module_version": "1.5.0",
            "_model_name": "DescriptionStyleModel",
            "_view_count": null,
            "_view_module": "@jupyter-widgets/base",
            "_view_module_version": "1.2.0",
            "_view_name": "StyleView",
            "description_width": ""
          }
        },
        "fffa640aa47c4f3a83ba10e0358b30f0": {
          "model_module": "@jupyter-widgets/output",
          "model_name": "OutputModel",
          "model_module_version": "1.0.0",
          "state": {
            "_dom_classes": [],
            "_model_module": "@jupyter-widgets/output",
            "_model_module_version": "1.0.0",
            "_model_name": "OutputModel",
            "_view_count": null,
            "_view_module": "@jupyter-widgets/output",
            "_view_module_version": "1.0.0",
            "_view_name": "OutputView",
            "layout": "IPY_MODEL_2d5e14283bb54024b36bdf1ef6e2b4d4",
            "msg_id": "",
            "outputs": []
          }
        },
        "2d5e14283bb54024b36bdf1ef6e2b4d4": {
          "model_module": "@jupyter-widgets/base",
          "model_name": "LayoutModel",
          "model_module_version": "1.2.0",
          "state": {
            "_model_module": "@jupyter-widgets/base",
            "_model_module_version": "1.2.0",
            "_model_name": "LayoutModel",
            "_view_count": null,
            "_view_module": "@jupyter-widgets/base",
            "_view_module_version": "1.2.0",
            "_view_name": "LayoutView",
            "align_content": null,
            "align_items": null,
            "align_self": null,
            "border": null,
            "bottom": null,
            "display": null,
            "flex": null,
            "flex_flow": null,
            "grid_area": null,
            "grid_auto_columns": null,
            "grid_auto_flow": null,
            "grid_auto_rows": null,
            "grid_column": null,
            "grid_gap": null,
            "grid_row": null,
            "grid_template_areas": null,
            "grid_template_columns": null,
            "grid_template_rows": null,
            "height": null,
            "justify_content": null,
            "justify_items": null,
            "left": null,
            "margin": null,
            "max_height": null,
            "max_width": null,
            "min_height": null,
            "min_width": null,
            "object_fit": null,
            "object_position": null,
            "order": null,
            "overflow": null,
            "overflow_x": null,
            "overflow_y": null,
            "padding": null,
            "right": null,
            "top": null,
            "visibility": null,
            "width": null
          }
        },
        "6eccbf07263c446a8de188d4ec5c7759": {
          "model_module": "@jupyter-widgets/controls",
          "model_name": "CheckboxModel",
          "model_module_version": "1.5.0",
          "state": {
            "_dom_classes": [],
            "_model_module": "@jupyter-widgets/controls",
            "_model_module_version": "1.5.0",
            "_model_name": "CheckboxModel",
            "_view_count": null,
            "_view_module": "@jupyter-widgets/controls",
            "_view_module_version": "1.5.0",
            "_view_name": "CheckboxView",
            "description": "Show Plot",
            "description_tooltip": null,
            "disabled": false,
            "indent": true,
            "layout": "IPY_MODEL_2726189c77c542aba005dbad12398cd3",
            "style": "IPY_MODEL_797ba2a20ecc426e8771e90826c75f2d",
            "value": false
          }
        },
        "2726189c77c542aba005dbad12398cd3": {
          "model_module": "@jupyter-widgets/base",
          "model_name": "LayoutModel",
          "model_module_version": "1.2.0",
          "state": {
            "_model_module": "@jupyter-widgets/base",
            "_model_module_version": "1.2.0",
            "_model_name": "LayoutModel",
            "_view_count": null,
            "_view_module": "@jupyter-widgets/base",
            "_view_module_version": "1.2.0",
            "_view_name": "LayoutView",
            "align_content": null,
            "align_items": null,
            "align_self": null,
            "border": null,
            "bottom": null,
            "display": null,
            "flex": null,
            "flex_flow": null,
            "grid_area": null,
            "grid_auto_columns": null,
            "grid_auto_flow": null,
            "grid_auto_rows": null,
            "grid_column": null,
            "grid_gap": null,
            "grid_row": null,
            "grid_template_areas": null,
            "grid_template_columns": null,
            "grid_template_rows": null,
            "height": null,
            "justify_content": null,
            "justify_items": null,
            "left": null,
            "margin": null,
            "max_height": null,
            "max_width": null,
            "min_height": null,
            "min_width": null,
            "object_fit": null,
            "object_position": null,
            "order": null,
            "overflow": null,
            "overflow_x": null,
            "overflow_y": null,
            "padding": null,
            "right": null,
            "top": null,
            "visibility": null,
            "width": null
          }
        },
        "797ba2a20ecc426e8771e90826c75f2d": {
          "model_module": "@jupyter-widgets/controls",
          "model_name": "DescriptionStyleModel",
          "model_module_version": "1.5.0",
          "state": {
            "_model_module": "@jupyter-widgets/controls",
            "_model_module_version": "1.5.0",
            "_model_name": "DescriptionStyleModel",
            "_view_count": null,
            "_view_module": "@jupyter-widgets/base",
            "_view_module_version": "1.2.0",
            "_view_name": "StyleView",
            "description_width": ""
          }
        },
        "c28ac10cc20a4f24a902a6f8deff0316": {
          "model_module": "@jupyter-widgets/output",
          "model_name": "OutputModel",
          "model_module_version": "1.0.0",
          "state": {
            "_dom_classes": [],
            "_model_module": "@jupyter-widgets/output",
            "_model_module_version": "1.0.0",
            "_model_name": "OutputModel",
            "_view_count": null,
            "_view_module": "@jupyter-widgets/output",
            "_view_module_version": "1.0.0",
            "_view_name": "OutputView",
            "layout": "IPY_MODEL_03f5ea0b9bf74080aa154ef4d1f93b62",
            "msg_id": "",
            "outputs": [
              {
                "output_type": "error",
                "ename": "NameError",
                "evalue": "name 'estimated_loss' is not defined",
                "traceback": [
                  "\u001b[0;31m---------------------------------------------------------------------------\u001b[0m",
                  "\u001b[0;31mNameError\u001b[0m                                 Traceback (most recent call last)",
                  "\u001b[0;32m/usr/local/lib/python3.11/dist-packages/ipywidgets/widgets/interaction.py\u001b[0m in \u001b[0;36mobserver\u001b[0;34m(change)\u001b[0m\n\u001b[1;32m     78\u001b[0m     \u001b[0;32mif\u001b[0m \u001b[0;32mnot\u001b[0m \u001b[0mlen\u001b[0m\u001b[0;34m(\u001b[0m\u001b[0mo\u001b[0m\u001b[0;34m)\u001b[0m \u001b[0;34m==\u001b[0m \u001b[0mlen\u001b[0m\u001b[0;34m(\u001b[0m\u001b[0mpattern\u001b[0m\u001b[0;34m)\u001b[0m\u001b[0;34m:\u001b[0m\u001b[0;34m\u001b[0m\u001b[0;34m\u001b[0m\u001b[0m\n\u001b[1;32m     79\u001b[0m         \u001b[0;32mreturn\u001b[0m \u001b[0;32mFalse\u001b[0m\u001b[0;34m\u001b[0m\u001b[0;34m\u001b[0m\u001b[0m\n\u001b[0;32m---> 80\u001b[0;31m     \u001b[0mcomps\u001b[0m \u001b[0;34m=\u001b[0m \u001b[0mzip\u001b[0m\u001b[0;34m(\u001b[0m\u001b[0mo\u001b[0m\u001b[0;34m,\u001b[0m\u001b[0mpattern\u001b[0m\u001b[0;34m)\u001b[0m\u001b[0;34m\u001b[0m\u001b[0;34m\u001b[0m\u001b[0m\n\u001b[0m\u001b[1;32m     81\u001b[0m     \u001b[0;32mreturn\u001b[0m \u001b[0mall\u001b[0m\u001b[0;34m(\u001b[0m\u001b[0misinstance\u001b[0m\u001b[0;34m(\u001b[0m\u001b[0mobj\u001b[0m\u001b[0;34m,\u001b[0m\u001b[0mkind\u001b[0m\u001b[0;34m)\u001b[0m \u001b[0;32mfor\u001b[0m \u001b[0mobj\u001b[0m\u001b[0;34m,\u001b[0m\u001b[0mkind\u001b[0m \u001b[0;32min\u001b[0m \u001b[0mcomps\u001b[0m\u001b[0;34m)\u001b[0m\u001b[0;34m\u001b[0m\u001b[0;34m\u001b[0m\u001b[0m\n\u001b[1;32m     82\u001b[0m \u001b[0;34m\u001b[0m\u001b[0m\n",
                  "\u001b[0;32m<ipython-input-13-c8555af03360>\u001b[0m in \u001b[0;36mplot_ce_zo_loss_multi\u001b[0;34m(show_plot)\u001b[0m\n\u001b[1;32m     13\u001b[0m     \u001b[0;32mfor\u001b[0m \u001b[0mepoch\u001b[0m \u001b[0;32min\u001b[0m \u001b[0mrange\u001b[0m\u001b[0;34m(\u001b[0m\u001b[0;36m1\u001b[0m\u001b[0;34m,\u001b[0m \u001b[0mepochs\u001b[0m \u001b[0;34m+\u001b[0m \u001b[0;36m1\u001b[0m\u001b[0;34m)\u001b[0m\u001b[0;34m:\u001b[0m\u001b[0;34m\u001b[0m\u001b[0;34m\u001b[0m\u001b[0m\n\u001b[1;32m     14\u001b[0m         \u001b[0mpredictor\u001b[0m\u001b[0;34m,\u001b[0m \u001b[0mW\u001b[0m \u001b[0;34m=\u001b[0m \u001b[0mbgd_softmax_regression_learner\u001b[0m\u001b[0;34m(\u001b[0m\u001b[0mX_train_norm_mul\u001b[0m\u001b[0;34m,\u001b[0m \u001b[0mY_train_mul\u001b[0m\u001b[0;34m,\u001b[0m \u001b[0mstep_size\u001b[0m\u001b[0;34m=\u001b[0m\u001b[0;36m0.1\u001b[0m\u001b[0;34m,\u001b[0m \u001b[0mepochs\u001b[0m\u001b[0;34m=\u001b[0m\u001b[0mepoch\u001b[0m\u001b[0;34m,\u001b[0m \u001b[0mrandom_seed\u001b[0m\u001b[0;34m=\u001b[0m\u001b[0mrandom_seed\u001b[0m\u001b[0;34m)\u001b[0m\u001b[0;34m\u001b[0m\u001b[0;34m\u001b[0m\u001b[0m\n\u001b[0;32m---> 15\u001b[0;31m         \u001b[0mloss\u001b[0m \u001b[0;34m=\u001b[0m \u001b[0mestimated_loss\u001b[0m\u001b[0;34m(\u001b[0m\u001b[0mpredictor\u001b[0m\u001b[0;34m,\u001b[0m \u001b[0mX_train_norm_mul\u001b[0m\u001b[0;34m,\u001b[0m \u001b[0mY_train_mul\u001b[0m\u001b[0;34m,\u001b[0m \u001b[0mmulticlass_cross_entropy_loss\u001b[0m\u001b[0;34m)\u001b[0m\u001b[0;34m\u001b[0m\u001b[0;34m\u001b[0m\u001b[0m\n\u001b[0m\u001b[1;32m     16\u001b[0m         \u001b[0mcross_entropy_loss_values\u001b[0m\u001b[0;34m.\u001b[0m\u001b[0mappend\u001b[0m\u001b[0;34m(\u001b[0m\u001b[0mloss\u001b[0m\u001b[0;34m)\u001b[0m\u001b[0;34m\u001b[0m\u001b[0;34m\u001b[0m\u001b[0m\n\u001b[1;32m     17\u001b[0m \u001b[0;34m\u001b[0m\u001b[0m\n",
                  "\u001b[0;31mNameError\u001b[0m: name 'estimated_loss' is not defined"
                ]
              }
            ]
          }
        },
        "03f5ea0b9bf74080aa154ef4d1f93b62": {
          "model_module": "@jupyter-widgets/base",
          "model_name": "LayoutModel",
          "model_module_version": "1.2.0",
          "state": {
            "_model_module": "@jupyter-widgets/base",
            "_model_module_version": "1.2.0",
            "_model_name": "LayoutModel",
            "_view_count": null,
            "_view_module": "@jupyter-widgets/base",
            "_view_module_version": "1.2.0",
            "_view_name": "LayoutView",
            "align_content": null,
            "align_items": null,
            "align_self": null,
            "border": null,
            "bottom": null,
            "display": null,
            "flex": null,
            "flex_flow": null,
            "grid_area": null,
            "grid_auto_columns": null,
            "grid_auto_flow": null,
            "grid_auto_rows": null,
            "grid_column": null,
            "grid_gap": null,
            "grid_row": null,
            "grid_template_areas": null,
            "grid_template_columns": null,
            "grid_template_rows": null,
            "height": null,
            "justify_content": null,
            "justify_items": null,
            "left": null,
            "margin": null,
            "max_height": null,
            "max_width": null,
            "min_height": null,
            "min_width": null,
            "object_fit": null,
            "object_position": null,
            "order": null,
            "overflow": null,
            "overflow_x": null,
            "overflow_y": null,
            "padding": null,
            "right": null,
            "top": null,
            "visibility": null,
            "width": null
          }
        },
        "6e6cecb09696431ba056ae3e76d5b461": {
          "model_module": "@jupyter-widgets/controls",
          "model_name": "CheckboxModel",
          "model_module_version": "1.5.0",
          "state": {
            "_dom_classes": [],
            "_model_module": "@jupyter-widgets/controls",
            "_model_module_version": "1.5.0",
            "_model_name": "CheckboxModel",
            "_view_count": null,
            "_view_module": "@jupyter-widgets/controls",
            "_view_module_version": "1.5.0",
            "_view_name": "CheckboxView",
            "description": "Show Plot",
            "description_tooltip": null,
            "disabled": false,
            "indent": true,
            "layout": "IPY_MODEL_71d7a2ded3bd4c129926c762217a4023",
            "style": "IPY_MODEL_2daad25a367e41cfa85cdbd9d0eea6d1",
            "value": false
          }
        },
        "71d7a2ded3bd4c129926c762217a4023": {
          "model_module": "@jupyter-widgets/base",
          "model_name": "LayoutModel",
          "model_module_version": "1.2.0",
          "state": {
            "_model_module": "@jupyter-widgets/base",
            "_model_module_version": "1.2.0",
            "_model_name": "LayoutModel",
            "_view_count": null,
            "_view_module": "@jupyter-widgets/base",
            "_view_module_version": "1.2.0",
            "_view_name": "LayoutView",
            "align_content": null,
            "align_items": null,
            "align_self": null,
            "border": null,
            "bottom": null,
            "display": null,
            "flex": null,
            "flex_flow": null,
            "grid_area": null,
            "grid_auto_columns": null,
            "grid_auto_flow": null,
            "grid_auto_rows": null,
            "grid_column": null,
            "grid_gap": null,
            "grid_row": null,
            "grid_template_areas": null,
            "grid_template_columns": null,
            "grid_template_rows": null,
            "height": null,
            "justify_content": null,
            "justify_items": null,
            "left": null,
            "margin": null,
            "max_height": null,
            "max_width": null,
            "min_height": null,
            "min_width": null,
            "object_fit": null,
            "object_position": null,
            "order": null,
            "overflow": null,
            "overflow_x": null,
            "overflow_y": null,
            "padding": null,
            "right": null,
            "top": null,
            "visibility": null,
            "width": null
          }
        },
        "2daad25a367e41cfa85cdbd9d0eea6d1": {
          "model_module": "@jupyter-widgets/controls",
          "model_name": "DescriptionStyleModel",
          "model_module_version": "1.5.0",
          "state": {
            "_model_module": "@jupyter-widgets/controls",
            "_model_module_version": "1.5.0",
            "_model_name": "DescriptionStyleModel",
            "_view_count": null,
            "_view_module": "@jupyter-widgets/base",
            "_view_module_version": "1.2.0",
            "_view_name": "StyleView",
            "description_width": ""
          }
        },
        "05d874bce26646e38a8d4c7215b95c52": {
          "model_module": "@jupyter-widgets/output",
          "model_name": "OutputModel",
          "model_module_version": "1.0.0",
          "state": {
            "_dom_classes": [],
            "_model_module": "@jupyter-widgets/output",
            "_model_module_version": "1.0.0",
            "_model_name": "OutputModel",
            "_view_count": null,
            "_view_module": "@jupyter-widgets/output",
            "_view_module_version": "1.0.0",
            "_view_name": "OutputView",
            "layout": "IPY_MODEL_d10a0202b7864907988ea7ffd9de3c95",
            "msg_id": "",
            "outputs": []
          }
        },
        "d10a0202b7864907988ea7ffd9de3c95": {
          "model_module": "@jupyter-widgets/base",
          "model_name": "LayoutModel",
          "model_module_version": "1.2.0",
          "state": {
            "_model_module": "@jupyter-widgets/base",
            "_model_module_version": "1.2.0",
            "_model_name": "LayoutModel",
            "_view_count": null,
            "_view_module": "@jupyter-widgets/base",
            "_view_module_version": "1.2.0",
            "_view_name": "LayoutView",
            "align_content": null,
            "align_items": null,
            "align_self": null,
            "border": null,
            "bottom": null,
            "display": null,
            "flex": null,
            "flex_flow": null,
            "grid_area": null,
            "grid_auto_columns": null,
            "grid_auto_flow": null,
            "grid_auto_rows": null,
            "grid_column": null,
            "grid_gap": null,
            "grid_row": null,
            "grid_template_areas": null,
            "grid_template_columns": null,
            "grid_template_rows": null,
            "height": null,
            "justify_content": null,
            "justify_items": null,
            "left": null,
            "margin": null,
            "max_height": null,
            "max_width": null,
            "min_height": null,
            "min_width": null,
            "object_fit": null,
            "object_position": null,
            "order": null,
            "overflow": null,
            "overflow_x": null,
            "overflow_y": null,
            "padding": null,
            "right": null,
            "top": null,
            "visibility": null,
            "width": null
          }
        },
        "35b571f1a50a485f80ad9fdee5c69573": {
          "model_module": "@jupyter-widgets/controls",
          "model_name": "CheckboxModel",
          "model_module_version": "1.5.0",
          "state": {
            "_dom_classes": [],
            "_model_module": "@jupyter-widgets/controls",
            "_model_module_version": "1.5.0",
            "_model_name": "CheckboxModel",
            "_view_count": null,
            "_view_module": "@jupyter-widgets/controls",
            "_view_module_version": "1.5.0",
            "_view_name": "CheckboxView",
            "description": "Show Plot",
            "description_tooltip": null,
            "disabled": false,
            "indent": true,
            "layout": "IPY_MODEL_e36374b2f1184fc3bb0d4ee32aa7605f",
            "style": "IPY_MODEL_5b172f7ba6d844ddaf5895956dea8a85",
            "value": false
          }
        },
        "e36374b2f1184fc3bb0d4ee32aa7605f": {
          "model_module": "@jupyter-widgets/base",
          "model_name": "LayoutModel",
          "model_module_version": "1.2.0",
          "state": {
            "_model_module": "@jupyter-widgets/base",
            "_model_module_version": "1.2.0",
            "_model_name": "LayoutModel",
            "_view_count": null,
            "_view_module": "@jupyter-widgets/base",
            "_view_module_version": "1.2.0",
            "_view_name": "LayoutView",
            "align_content": null,
            "align_items": null,
            "align_self": null,
            "border": null,
            "bottom": null,
            "display": null,
            "flex": null,
            "flex_flow": null,
            "grid_area": null,
            "grid_auto_columns": null,
            "grid_auto_flow": null,
            "grid_auto_rows": null,
            "grid_column": null,
            "grid_gap": null,
            "grid_row": null,
            "grid_template_areas": null,
            "grid_template_columns": null,
            "grid_template_rows": null,
            "height": null,
            "justify_content": null,
            "justify_items": null,
            "left": null,
            "margin": null,
            "max_height": null,
            "max_width": null,
            "min_height": null,
            "min_width": null,
            "object_fit": null,
            "object_position": null,
            "order": null,
            "overflow": null,
            "overflow_x": null,
            "overflow_y": null,
            "padding": null,
            "right": null,
            "top": null,
            "visibility": null,
            "width": null
          }
        },
        "5b172f7ba6d844ddaf5895956dea8a85": {
          "model_module": "@jupyter-widgets/controls",
          "model_name": "DescriptionStyleModel",
          "model_module_version": "1.5.0",
          "state": {
            "_model_module": "@jupyter-widgets/controls",
            "_model_module_version": "1.5.0",
            "_model_name": "DescriptionStyleModel",
            "_view_count": null,
            "_view_module": "@jupyter-widgets/base",
            "_view_module_version": "1.2.0",
            "_view_name": "StyleView",
            "description_width": ""
          }
        },
        "e63f19f343e74efa972df418078f4394": {
          "model_module": "@jupyter-widgets/controls",
          "model_name": "IntSliderModel",
          "model_module_version": "1.5.0",
          "state": {
            "_dom_classes": [],
            "_model_module": "@jupyter-widgets/controls",
            "_model_module_version": "1.5.0",
            "_model_name": "IntSliderModel",
            "_view_count": null,
            "_view_module": "@jupyter-widgets/controls",
            "_view_module_version": "1.5.0",
            "_view_name": "IntSliderView",
            "continuous_update": true,
            "description": "Degree",
            "description_tooltip": null,
            "disabled": false,
            "layout": "IPY_MODEL_916bc3d61ce041a2b4308c26ad19caf4",
            "max": 10,
            "min": 1,
            "orientation": "horizontal",
            "readout": true,
            "readout_format": "d",
            "step": 0,
            "style": "IPY_MODEL_3e7312d9f3ed486bac1c871f76bb8060",
            "value": 1
          }
        },
        "916bc3d61ce041a2b4308c26ad19caf4": {
          "model_module": "@jupyter-widgets/base",
          "model_name": "LayoutModel",
          "model_module_version": "1.2.0",
          "state": {
            "_model_module": "@jupyter-widgets/base",
            "_model_module_version": "1.2.0",
            "_model_name": "LayoutModel",
            "_view_count": null,
            "_view_module": "@jupyter-widgets/base",
            "_view_module_version": "1.2.0",
            "_view_name": "LayoutView",
            "align_content": null,
            "align_items": null,
            "align_self": null,
            "border": null,
            "bottom": null,
            "display": null,
            "flex": null,
            "flex_flow": null,
            "grid_area": null,
            "grid_auto_columns": null,
            "grid_auto_flow": null,
            "grid_auto_rows": null,
            "grid_column": null,
            "grid_gap": null,
            "grid_row": null,
            "grid_template_areas": null,
            "grid_template_columns": null,
            "grid_template_rows": null,
            "height": null,
            "justify_content": null,
            "justify_items": null,
            "left": null,
            "margin": null,
            "max_height": null,
            "max_width": null,
            "min_height": null,
            "min_width": null,
            "object_fit": null,
            "object_position": null,
            "order": null,
            "overflow": null,
            "overflow_x": null,
            "overflow_y": null,
            "padding": null,
            "right": null,
            "top": null,
            "visibility": null,
            "width": null
          }
        },
        "3e7312d9f3ed486bac1c871f76bb8060": {
          "model_module": "@jupyter-widgets/controls",
          "model_name": "SliderStyleModel",
          "model_module_version": "1.5.0",
          "state": {
            "_model_module": "@jupyter-widgets/controls",
            "_model_module_version": "1.5.0",
            "_model_name": "SliderStyleModel",
            "_view_count": null,
            "_view_module": "@jupyter-widgets/base",
            "_view_module_version": "1.2.0",
            "_view_name": "StyleView",
            "description_width": "",
            "handle_color": null
          }
        },
        "2e434be96e874236a3455d62b171c24f": {
          "model_module": "@jupyter-widgets/output",
          "model_name": "OutputModel",
          "model_module_version": "1.0.0",
          "state": {
            "_dom_classes": [],
            "_model_module": "@jupyter-widgets/output",
            "_model_module_version": "1.0.0",
            "_model_name": "OutputModel",
            "_view_count": null,
            "_view_module": "@jupyter-widgets/output",
            "_view_module_version": "1.0.0",
            "_view_name": "OutputView",
            "layout": "IPY_MODEL_ea2db69e0a234577b3317336548f2f13",
            "msg_id": "",
            "outputs": []
          }
        },
        "ea2db69e0a234577b3317336548f2f13": {
          "model_module": "@jupyter-widgets/base",
          "model_name": "LayoutModel",
          "model_module_version": "1.2.0",
          "state": {
            "_model_module": "@jupyter-widgets/base",
            "_model_module_version": "1.2.0",
            "_model_name": "LayoutModel",
            "_view_count": null,
            "_view_module": "@jupyter-widgets/base",
            "_view_module_version": "1.2.0",
            "_view_name": "LayoutView",
            "align_content": null,
            "align_items": null,
            "align_self": null,
            "border": null,
            "bottom": null,
            "display": null,
            "flex": null,
            "flex_flow": null,
            "grid_area": null,
            "grid_auto_columns": null,
            "grid_auto_flow": null,
            "grid_auto_rows": null,
            "grid_column": null,
            "grid_gap": null,
            "grid_row": null,
            "grid_template_areas": null,
            "grid_template_columns": null,
            "grid_template_rows": null,
            "height": null,
            "justify_content": null,
            "justify_items": null,
            "left": null,
            "margin": null,
            "max_height": null,
            "max_width": null,
            "min_height": null,
            "min_width": null,
            "object_fit": null,
            "object_position": null,
            "order": null,
            "overflow": null,
            "overflow_x": null,
            "overflow_y": null,
            "padding": null,
            "right": null,
            "top": null,
            "visibility": null,
            "width": null
          }
        }
      }
    }
  },
  "cells": [
    {
      "cell_type": "code",
      "execution_count": null,
      "metadata": {
        "id": "H9tOk7Iwq0GA",
        "colab": {
          "base_uri": "https://localhost:8080/"
        },
        "outputId": "a0d0ff54-86c0-4b4d-b0b4-194c6282c7da"
      },
      "outputs": [
        {
          "output_type": "stream",
          "name": "stdout",
          "text": [
            "\u001b[?25l   \u001b[90m━━━━━━━━━━━━━━━━━━━━━━━━━━━━━━━━━━━━━━━━\u001b[0m \u001b[32m0.0/142.3 kB\u001b[0m \u001b[31m?\u001b[0m eta \u001b[36m-:--:--\u001b[0m\r\u001b[2K   \u001b[91m━━━━━━━━━━━━━━━━━━━━━━━━━━━━━━━━━━━━━\u001b[0m\u001b[90m╺\u001b[0m\u001b[90m━━\u001b[0m \u001b[32m133.1/142.3 kB\u001b[0m \u001b[31m9.5 MB/s\u001b[0m eta \u001b[36m0:00:01\u001b[0m\r\u001b[2K   \u001b[90m━━━━━━━━━━━━━━━━━━━━━━━━━━━━━━━━━━━━━━━━\u001b[0m \u001b[32m142.3/142.3 kB\u001b[0m \u001b[31m3.5 MB/s\u001b[0m eta \u001b[36m0:00:00\u001b[0m\n",
            "\u001b[2K   \u001b[90m━━━━━━━━━━━━━━━━━━━━━━━━━━━━━━━━━━━━━━━━\u001b[0m \u001b[32m119.7/119.7 kB\u001b[0m \u001b[31m6.6 MB/s\u001b[0m eta \u001b[36m0:00:00\u001b[0m\n",
            "\u001b[2K   \u001b[90m━━━━━━━━━━━━━━━━━━━━━━━━━━━━━━━━━━━━━━━━\u001b[0m \u001b[32m100.2/100.2 kB\u001b[0m \u001b[31m5.8 MB/s\u001b[0m eta \u001b[36m0:00:00\u001b[0m\n",
            "\u001b[2K   \u001b[90m━━━━━━━━━━━━━━━━━━━━━━━━━━━━━━━━━━━━━━━━\u001b[0m \u001b[32m139.8/139.8 kB\u001b[0m \u001b[31m4.8 MB/s\u001b[0m eta \u001b[36m0:00:00\u001b[0m\n",
            "\u001b[2K   \u001b[90m━━━━━━━━━━━━━━━━━━━━━━━━━━━━━━━━━━━━━━━━\u001b[0m \u001b[32m164.1/164.1 kB\u001b[0m \u001b[31m7.8 MB/s\u001b[0m eta \u001b[36m0:00:00\u001b[0m\n",
            "\u001b[2K   \u001b[90m━━━━━━━━━━━━━━━━━━━━━━━━━━━━━━━━━━━━━━━━\u001b[0m \u001b[32m115.4/115.4 kB\u001b[0m \u001b[31m7.1 MB/s\u001b[0m eta \u001b[36m0:00:00\u001b[0m\n",
            "\u001b[2K   \u001b[90m━━━━━━━━━━━━━━━━━━━━━━━━━━━━━━━━━━━━━━━━\u001b[0m \u001b[32m1.6/1.6 MB\u001b[0m \u001b[31m26.8 MB/s\u001b[0m eta \u001b[36m0:00:00\u001b[0m\n",
            "\u001b[2K   \u001b[90m━━━━━━━━━━━━━━━━━━━━━━━━━━━━━━━━━━━━━━━━\u001b[0m \u001b[32m2.2/2.2 MB\u001b[0m \u001b[31m33.0 MB/s\u001b[0m eta \u001b[36m0:00:00\u001b[0m\n",
            "\u001b[2K   \u001b[90m━━━━━━━━━━━━━━━━━━━━━━━━━━━━━━━━━━━━━━━━\u001b[0m \u001b[32m45.2/45.2 MB\u001b[0m \u001b[31m14.1 MB/s\u001b[0m eta \u001b[36m0:00:00\u001b[0m\n",
            "\u001b[?25h"
          ]
        }
      ],
      "source": [
        "# Enable widgets\n",
        "from google.colab import output\n",
        "output.enable_custom_widget_manager()\n",
        "import ipywidgets as widgets\n",
        "\n",
        "# Install otter-grader\n",
        "%pip install -q otter-grader==6.1.0\n",
        "\n",
        "# Download the tests directory from the course website (this will be used by otter-grader)\n",
        "!wget -q https://dtrb.github.io/machinelearning1/assignments/Winter2025/ass7/tests.zip -O tests.zip\n",
        "\n",
        "# Unzip the tests directory, forcing overwriting of existing files\n",
        "!unzip -qo tests.zip -d ."
      ]
    },
    {
      "cell_type": "code",
      "execution_count": null,
      "metadata": {
        "deletable": false,
        "editable": false,
        "id": "tyI7FB_eq0GB"
      },
      "outputs": [],
      "source": [
        "# Initialize Otter\n",
        "import otter\n",
        "grader = otter.Notebook()"
      ]
    },
    {
      "cell_type": "markdown",
      "metadata": {
        "id": "YVc0uzbqq0GC"
      },
      "source": [
        "# ML Wine Classifer\n",
        "## Introduction\n",
        "\n",
        "Welcome to the ML Wine Classifier! In this project, I implement a multi-class classification learner using estimated cross-entropy loss, linear and polynomial decision boundaries and key Python modules like numpy, pandas and scikit-learn.\n",
        "\n",
        "1. [Dataset Information](#part-1-dataset-information)\n",
        "1. [Multiclass Classification](#part-2-multiclass-classification)\n",
        "\n",
        "This project is implemented based on teachings and material from CMPUT 267: Machine Learning I at the University of Alberta.\n",
        "\n",
        "Let's get started!"
      ]
    },
    {
      "cell_type": "markdown",
      "source": [],
      "metadata": {
        "id": "RNDSYHF30xgW"
      }
    },
    {
      "cell_type": "markdown",
      "metadata": {
        "id": "5m1sDZiyq0GC"
      },
      "source": [
        "# Part 1: Dataset Information\n",
        "\n",
        "In this project, I use the **UCI Wine dataset**, which is a classic dataset often used for classification tasks.\n",
        "It contains information about various chemical properties of wines derived from three different cultivars in the same region in Italy.\n",
        "The features include alcohol content, malic acid, ash, alcalinity of ash, magnesium, total phenols, flavanoids, nonflavanoid phenols, proanthocyanins, color intensity, hue, OD280/OD315 of diluted wines, and proline,\n",
        "with the labels being the cultivar of the wine (Barolo (0), Grignolino (1), Barbera (2)).\n",
        "The dataset contains 178 data points. It was introduced by Forina et al. (1991) in their paper on chemical analysis.\n",
        "\n",
        "Let's begin by loading the dataset and taking a closer look at what it contains."
      ]
    },
    {
      "cell_type": "markdown",
      "metadata": {
        "id": "RVV4CRBPq0GC"
      },
      "source": [
        "### Loading the Dataset"
      ]
    },
    {
      "cell_type": "code",
      "execution_count": null,
      "metadata": {
        "id": "qafaYSsAq0GC"
      },
      "outputs": [],
      "source": [
        "# Import necessary libraries\n",
        "import numpy as np\n",
        "import pandas as pd\n",
        "import matplotlib.pyplot as plt\n",
        "from ipywidgets import interactive_output\n",
        "import ipywidgets as widgets\n",
        "from IPython.display import display, clear_output\n",
        "from sklearn.preprocessing import PolynomialFeatures\n",
        "from sklearn.datasets import load_wine\n",
        "from sklearn.model_selection import train_test_split\n",
        "\n",
        "# Set a fixed random seed for reproducibility\n",
        "random_seed = 42"
      ]
    },
    {
      "cell_type": "code",
      "execution_count": null,
      "metadata": {
        "id": "Zf1y9ihLq0GD",
        "colab": {
          "base_uri": "https://localhost:8080/",
          "height": 226
        },
        "outputId": "77cc801f-5a9b-44d1-c1f3-157adef6dc37"
      },
      "outputs": [
        {
          "output_type": "execute_result",
          "data": {
            "text/plain": [
              "     alcohol  malic_acid   ash  alcalinity_of_ash  magnesium  total_phenols  \\\n",
              "19     13.64        3.10  2.56               15.2      116.0           2.70   \n",
              "45     14.21        4.04  2.44               18.9      111.0           2.85   \n",
              "140    12.93        2.81  2.70               21.0       96.0           1.54   \n",
              "30     13.73        1.50  2.70               22.5      101.0           3.00   \n",
              "67     12.37        1.17  1.92               19.6       78.0           2.11   \n",
              "\n",
              "     flavanoids  nonflavanoid_phenols  proanthocyanins  color_intensity   hue  \\\n",
              "19         3.03                  0.17             1.66             5.10  0.96   \n",
              "45         2.65                  0.30             1.25             5.24  0.87   \n",
              "140        0.50                  0.53             0.75             4.60  0.77   \n",
              "30         3.25                  0.29             2.38             5.70  1.19   \n",
              "67         2.00                  0.27             1.04             4.68  1.12   \n",
              "\n",
              "     od280/od315_of_diluted_wines  proline  Class  \n",
              "19                           3.36    845.0      0  \n",
              "45                           3.33   1080.0      0  \n",
              "140                          2.31    600.0      2  \n",
              "30                           2.71   1285.0      0  \n",
              "67                           3.48    510.0      1  "
            ],
            "text/html": [
              "\n",
              "  <div id=\"df-f5f52c0b-9f3b-44bb-b721-bbabb862953f\" class=\"colab-df-container\">\n",
              "    <div>\n",
              "<style scoped>\n",
              "    .dataframe tbody tr th:only-of-type {\n",
              "        vertical-align: middle;\n",
              "    }\n",
              "\n",
              "    .dataframe tbody tr th {\n",
              "        vertical-align: top;\n",
              "    }\n",
              "\n",
              "    .dataframe thead th {\n",
              "        text-align: right;\n",
              "    }\n",
              "</style>\n",
              "<table border=\"1\" class=\"dataframe\">\n",
              "  <thead>\n",
              "    <tr style=\"text-align: right;\">\n",
              "      <th></th>\n",
              "      <th>alcohol</th>\n",
              "      <th>malic_acid</th>\n",
              "      <th>ash</th>\n",
              "      <th>alcalinity_of_ash</th>\n",
              "      <th>magnesium</th>\n",
              "      <th>total_phenols</th>\n",
              "      <th>flavanoids</th>\n",
              "      <th>nonflavanoid_phenols</th>\n",
              "      <th>proanthocyanins</th>\n",
              "      <th>color_intensity</th>\n",
              "      <th>hue</th>\n",
              "      <th>od280/od315_of_diluted_wines</th>\n",
              "      <th>proline</th>\n",
              "      <th>Class</th>\n",
              "    </tr>\n",
              "  </thead>\n",
              "  <tbody>\n",
              "    <tr>\n",
              "      <th>19</th>\n",
              "      <td>13.64</td>\n",
              "      <td>3.10</td>\n",
              "      <td>2.56</td>\n",
              "      <td>15.2</td>\n",
              "      <td>116.0</td>\n",
              "      <td>2.70</td>\n",
              "      <td>3.03</td>\n",
              "      <td>0.17</td>\n",
              "      <td>1.66</td>\n",
              "      <td>5.10</td>\n",
              "      <td>0.96</td>\n",
              "      <td>3.36</td>\n",
              "      <td>845.0</td>\n",
              "      <td>0</td>\n",
              "    </tr>\n",
              "    <tr>\n",
              "      <th>45</th>\n",
              "      <td>14.21</td>\n",
              "      <td>4.04</td>\n",
              "      <td>2.44</td>\n",
              "      <td>18.9</td>\n",
              "      <td>111.0</td>\n",
              "      <td>2.85</td>\n",
              "      <td>2.65</td>\n",
              "      <td>0.30</td>\n",
              "      <td>1.25</td>\n",
              "      <td>5.24</td>\n",
              "      <td>0.87</td>\n",
              "      <td>3.33</td>\n",
              "      <td>1080.0</td>\n",
              "      <td>0</td>\n",
              "    </tr>\n",
              "    <tr>\n",
              "      <th>140</th>\n",
              "      <td>12.93</td>\n",
              "      <td>2.81</td>\n",
              "      <td>2.70</td>\n",
              "      <td>21.0</td>\n",
              "      <td>96.0</td>\n",
              "      <td>1.54</td>\n",
              "      <td>0.50</td>\n",
              "      <td>0.53</td>\n",
              "      <td>0.75</td>\n",
              "      <td>4.60</td>\n",
              "      <td>0.77</td>\n",
              "      <td>2.31</td>\n",
              "      <td>600.0</td>\n",
              "      <td>2</td>\n",
              "    </tr>\n",
              "    <tr>\n",
              "      <th>30</th>\n",
              "      <td>13.73</td>\n",
              "      <td>1.50</td>\n",
              "      <td>2.70</td>\n",
              "      <td>22.5</td>\n",
              "      <td>101.0</td>\n",
              "      <td>3.00</td>\n",
              "      <td>3.25</td>\n",
              "      <td>0.29</td>\n",
              "      <td>2.38</td>\n",
              "      <td>5.70</td>\n",
              "      <td>1.19</td>\n",
              "      <td>2.71</td>\n",
              "      <td>1285.0</td>\n",
              "      <td>0</td>\n",
              "    </tr>\n",
              "    <tr>\n",
              "      <th>67</th>\n",
              "      <td>12.37</td>\n",
              "      <td>1.17</td>\n",
              "      <td>1.92</td>\n",
              "      <td>19.6</td>\n",
              "      <td>78.0</td>\n",
              "      <td>2.11</td>\n",
              "      <td>2.00</td>\n",
              "      <td>0.27</td>\n",
              "      <td>1.04</td>\n",
              "      <td>4.68</td>\n",
              "      <td>1.12</td>\n",
              "      <td>3.48</td>\n",
              "      <td>510.0</td>\n",
              "      <td>1</td>\n",
              "    </tr>\n",
              "  </tbody>\n",
              "</table>\n",
              "</div>\n",
              "    <div class=\"colab-df-buttons\">\n",
              "\n",
              "  <div class=\"colab-df-container\">\n",
              "    <button class=\"colab-df-convert\" onclick=\"convertToInteractive('df-f5f52c0b-9f3b-44bb-b721-bbabb862953f')\"\n",
              "            title=\"Convert this dataframe to an interactive table.\"\n",
              "            style=\"display:none;\">\n",
              "\n",
              "  <svg xmlns=\"http://www.w3.org/2000/svg\" height=\"24px\" viewBox=\"0 -960 960 960\">\n",
              "    <path d=\"M120-120v-720h720v720H120Zm60-500h600v-160H180v160Zm220 220h160v-160H400v160Zm0 220h160v-160H400v160ZM180-400h160v-160H180v160Zm440 0h160v-160H620v160ZM180-180h160v-160H180v160Zm440 0h160v-160H620v160Z\"/>\n",
              "  </svg>\n",
              "    </button>\n",
              "\n",
              "  <style>\n",
              "    .colab-df-container {\n",
              "      display:flex;\n",
              "      gap: 12px;\n",
              "    }\n",
              "\n",
              "    .colab-df-convert {\n",
              "      background-color: #E8F0FE;\n",
              "      border: none;\n",
              "      border-radius: 50%;\n",
              "      cursor: pointer;\n",
              "      display: none;\n",
              "      fill: #1967D2;\n",
              "      height: 32px;\n",
              "      padding: 0 0 0 0;\n",
              "      width: 32px;\n",
              "    }\n",
              "\n",
              "    .colab-df-convert:hover {\n",
              "      background-color: #E2EBFA;\n",
              "      box-shadow: 0px 1px 2px rgba(60, 64, 67, 0.3), 0px 1px 3px 1px rgba(60, 64, 67, 0.15);\n",
              "      fill: #174EA6;\n",
              "    }\n",
              "\n",
              "    .colab-df-buttons div {\n",
              "      margin-bottom: 4px;\n",
              "    }\n",
              "\n",
              "    [theme=dark] .colab-df-convert {\n",
              "      background-color: #3B4455;\n",
              "      fill: #D2E3FC;\n",
              "    }\n",
              "\n",
              "    [theme=dark] .colab-df-convert:hover {\n",
              "      background-color: #434B5C;\n",
              "      box-shadow: 0px 1px 3px 1px rgba(0, 0, 0, 0.15);\n",
              "      filter: drop-shadow(0px 1px 2px rgba(0, 0, 0, 0.3));\n",
              "      fill: #FFFFFF;\n",
              "    }\n",
              "  </style>\n",
              "\n",
              "    <script>\n",
              "      const buttonEl =\n",
              "        document.querySelector('#df-f5f52c0b-9f3b-44bb-b721-bbabb862953f button.colab-df-convert');\n",
              "      buttonEl.style.display =\n",
              "        google.colab.kernel.accessAllowed ? 'block' : 'none';\n",
              "\n",
              "      async function convertToInteractive(key) {\n",
              "        const element = document.querySelector('#df-f5f52c0b-9f3b-44bb-b721-bbabb862953f');\n",
              "        const dataTable =\n",
              "          await google.colab.kernel.invokeFunction('convertToInteractive',\n",
              "                                                    [key], {});\n",
              "        if (!dataTable) return;\n",
              "\n",
              "        const docLinkHtml = 'Like what you see? Visit the ' +\n",
              "          '<a target=\"_blank\" href=https://colab.research.google.com/notebooks/data_table.ipynb>data table notebook</a>'\n",
              "          + ' to learn more about interactive tables.';\n",
              "        element.innerHTML = '';\n",
              "        dataTable['output_type'] = 'display_data';\n",
              "        await google.colab.output.renderOutput(dataTable, element);\n",
              "        const docLink = document.createElement('div');\n",
              "        docLink.innerHTML = docLinkHtml;\n",
              "        element.appendChild(docLink);\n",
              "      }\n",
              "    </script>\n",
              "  </div>\n",
              "\n",
              "\n",
              "<div id=\"df-8b6a4a89-25ab-45c9-a8ce-a57453352da3\">\n",
              "  <button class=\"colab-df-quickchart\" onclick=\"quickchart('df-8b6a4a89-25ab-45c9-a8ce-a57453352da3')\"\n",
              "            title=\"Suggest charts\"\n",
              "            style=\"display:none;\">\n",
              "\n",
              "<svg xmlns=\"http://www.w3.org/2000/svg\" height=\"24px\"viewBox=\"0 0 24 24\"\n",
              "     width=\"24px\">\n",
              "    <g>\n",
              "        <path d=\"M19 3H5c-1.1 0-2 .9-2 2v14c0 1.1.9 2 2 2h14c1.1 0 2-.9 2-2V5c0-1.1-.9-2-2-2zM9 17H7v-7h2v7zm4 0h-2V7h2v10zm4 0h-2v-4h2v4z\"/>\n",
              "    </g>\n",
              "</svg>\n",
              "  </button>\n",
              "\n",
              "<style>\n",
              "  .colab-df-quickchart {\n",
              "      --bg-color: #E8F0FE;\n",
              "      --fill-color: #1967D2;\n",
              "      --hover-bg-color: #E2EBFA;\n",
              "      --hover-fill-color: #174EA6;\n",
              "      --disabled-fill-color: #AAA;\n",
              "      --disabled-bg-color: #DDD;\n",
              "  }\n",
              "\n",
              "  [theme=dark] .colab-df-quickchart {\n",
              "      --bg-color: #3B4455;\n",
              "      --fill-color: #D2E3FC;\n",
              "      --hover-bg-color: #434B5C;\n",
              "      --hover-fill-color: #FFFFFF;\n",
              "      --disabled-bg-color: #3B4455;\n",
              "      --disabled-fill-color: #666;\n",
              "  }\n",
              "\n",
              "  .colab-df-quickchart {\n",
              "    background-color: var(--bg-color);\n",
              "    border: none;\n",
              "    border-radius: 50%;\n",
              "    cursor: pointer;\n",
              "    display: none;\n",
              "    fill: var(--fill-color);\n",
              "    height: 32px;\n",
              "    padding: 0;\n",
              "    width: 32px;\n",
              "  }\n",
              "\n",
              "  .colab-df-quickchart:hover {\n",
              "    background-color: var(--hover-bg-color);\n",
              "    box-shadow: 0 1px 2px rgba(60, 64, 67, 0.3), 0 1px 3px 1px rgba(60, 64, 67, 0.15);\n",
              "    fill: var(--button-hover-fill-color);\n",
              "  }\n",
              "\n",
              "  .colab-df-quickchart-complete:disabled,\n",
              "  .colab-df-quickchart-complete:disabled:hover {\n",
              "    background-color: var(--disabled-bg-color);\n",
              "    fill: var(--disabled-fill-color);\n",
              "    box-shadow: none;\n",
              "  }\n",
              "\n",
              "  .colab-df-spinner {\n",
              "    border: 2px solid var(--fill-color);\n",
              "    border-color: transparent;\n",
              "    border-bottom-color: var(--fill-color);\n",
              "    animation:\n",
              "      spin 1s steps(1) infinite;\n",
              "  }\n",
              "\n",
              "  @keyframes spin {\n",
              "    0% {\n",
              "      border-color: transparent;\n",
              "      border-bottom-color: var(--fill-color);\n",
              "      border-left-color: var(--fill-color);\n",
              "    }\n",
              "    20% {\n",
              "      border-color: transparent;\n",
              "      border-left-color: var(--fill-color);\n",
              "      border-top-color: var(--fill-color);\n",
              "    }\n",
              "    30% {\n",
              "      border-color: transparent;\n",
              "      border-left-color: var(--fill-color);\n",
              "      border-top-color: var(--fill-color);\n",
              "      border-right-color: var(--fill-color);\n",
              "    }\n",
              "    40% {\n",
              "      border-color: transparent;\n",
              "      border-right-color: var(--fill-color);\n",
              "      border-top-color: var(--fill-color);\n",
              "    }\n",
              "    60% {\n",
              "      border-color: transparent;\n",
              "      border-right-color: var(--fill-color);\n",
              "    }\n",
              "    80% {\n",
              "      border-color: transparent;\n",
              "      border-right-color: var(--fill-color);\n",
              "      border-bottom-color: var(--fill-color);\n",
              "    }\n",
              "    90% {\n",
              "      border-color: transparent;\n",
              "      border-bottom-color: var(--fill-color);\n",
              "    }\n",
              "  }\n",
              "</style>\n",
              "\n",
              "  <script>\n",
              "    async function quickchart(key) {\n",
              "      const quickchartButtonEl =\n",
              "        document.querySelector('#' + key + ' button');\n",
              "      quickchartButtonEl.disabled = true;  // To prevent multiple clicks.\n",
              "      quickchartButtonEl.classList.add('colab-df-spinner');\n",
              "      try {\n",
              "        const charts = await google.colab.kernel.invokeFunction(\n",
              "            'suggestCharts', [key], {});\n",
              "      } catch (error) {\n",
              "        console.error('Error during call to suggestCharts:', error);\n",
              "      }\n",
              "      quickchartButtonEl.classList.remove('colab-df-spinner');\n",
              "      quickchartButtonEl.classList.add('colab-df-quickchart-complete');\n",
              "    }\n",
              "    (() => {\n",
              "      let quickchartButtonEl =\n",
              "        document.querySelector('#df-8b6a4a89-25ab-45c9-a8ce-a57453352da3 button');\n",
              "      quickchartButtonEl.style.display =\n",
              "        google.colab.kernel.accessAllowed ? 'block' : 'none';\n",
              "    })();\n",
              "  </script>\n",
              "</div>\n",
              "\n",
              "    </div>\n",
              "  </div>\n"
            ],
            "application/vnd.google.colaboratory.intrinsic+json": {
              "type": "dataframe",
              "summary": "{\n  \"name\": \"df\",\n  \"rows\": 5,\n  \"fields\": [\n    {\n      \"column\": \"alcohol\",\n      \"properties\": {\n        \"dtype\": \"number\",\n        \"std\": 0.7248310147889651,\n        \"min\": 12.37,\n        \"max\": 14.21,\n        \"num_unique_values\": 5,\n        \"samples\": [\n          14.21,\n          12.37,\n          12.93\n        ],\n        \"semantic_type\": \"\",\n        \"description\": \"\"\n      }\n    },\n    {\n      \"column\": \"malic_acid\",\n      \"properties\": {\n        \"dtype\": \"number\",\n        \"std\": 1.1825523244237441,\n        \"min\": 1.17,\n        \"max\": 4.04,\n        \"num_unique_values\": 5,\n        \"samples\": [\n          4.04,\n          1.17,\n          2.81\n        ],\n        \"semantic_type\": \"\",\n        \"description\": \"\"\n      }\n    },\n    {\n      \"column\": \"ash\",\n      \"properties\": {\n        \"dtype\": \"number\",\n        \"std\": 0.3229241396984748,\n        \"min\": 1.92,\n        \"max\": 2.7,\n        \"num_unique_values\": 4,\n        \"samples\": [\n          2.44,\n          1.92,\n          2.56\n        ],\n        \"semantic_type\": \"\",\n        \"description\": \"\"\n      }\n    },\n    {\n      \"column\": \"alcalinity_of_ash\",\n      \"properties\": {\n        \"dtype\": \"number\",\n        \"std\": 2.7428087793355194,\n        \"min\": 15.2,\n        \"max\": 22.5,\n        \"num_unique_values\": 5,\n        \"samples\": [\n          18.9,\n          19.6,\n          21.0\n        ],\n        \"semantic_type\": \"\",\n        \"description\": \"\"\n      }\n    },\n    {\n      \"column\": \"magnesium\",\n      \"properties\": {\n        \"dtype\": \"number\",\n        \"std\": 14.808781178746615,\n        \"min\": 78.0,\n        \"max\": 116.0,\n        \"num_unique_values\": 5,\n        \"samples\": [\n          111.0,\n          78.0,\n          96.0\n        ],\n        \"semantic_type\": \"\",\n        \"description\": \"\"\n      }\n    },\n    {\n      \"column\": \"total_phenols\",\n      \"properties\": {\n        \"dtype\": \"number\",\n        \"std\": 0.6058465152165192,\n        \"min\": 1.54,\n        \"max\": 3.0,\n        \"num_unique_values\": 5,\n        \"samples\": [\n          2.85,\n          2.11,\n          1.54\n        ],\n        \"semantic_type\": \"\",\n        \"description\": \"\"\n      }\n    },\n    {\n      \"column\": \"flavanoids\",\n      \"properties\": {\n        \"dtype\": \"number\",\n        \"std\": 1.1053189584911678,\n        \"min\": 0.5,\n        \"max\": 3.25,\n        \"num_unique_values\": 5,\n        \"samples\": [\n          2.65,\n          2.0,\n          0.5\n        ],\n        \"semantic_type\": \"\",\n        \"description\": \"\"\n      }\n    },\n    {\n      \"column\": \"nonflavanoid_phenols\",\n      \"properties\": {\n        \"dtype\": \"number\",\n        \"std\": 0.1323631368621944,\n        \"min\": 0.17,\n        \"max\": 0.53,\n        \"num_unique_values\": 5,\n        \"samples\": [\n          0.3,\n          0.27,\n          0.53\n        ],\n        \"semantic_type\": \"\",\n        \"description\": \"\"\n      }\n    },\n    {\n      \"column\": \"proanthocyanins\",\n      \"properties\": {\n        \"dtype\": \"number\",\n        \"std\": 0.6327163661546933,\n        \"min\": 0.75,\n        \"max\": 2.38,\n        \"num_unique_values\": 5,\n        \"samples\": [\n          1.25,\n          1.04,\n          0.75\n        ],\n        \"semantic_type\": \"\",\n        \"description\": \"\"\n      }\n    },\n    {\n      \"column\": \"color_intensity\",\n      \"properties\": {\n        \"dtype\": \"number\",\n        \"std\": 0.4470794112906567,\n        \"min\": 4.6,\n        \"max\": 5.7,\n        \"num_unique_values\": 5,\n        \"samples\": [\n          5.24,\n          4.68,\n          4.6\n        ],\n        \"semantic_type\": \"\",\n        \"description\": \"\"\n      }\n    },\n    {\n      \"column\": \"hue\",\n      \"properties\": {\n        \"dtype\": \"number\",\n        \"std\": 0.17340703561274554,\n        \"min\": 0.77,\n        \"max\": 1.19,\n        \"num_unique_values\": 5,\n        \"samples\": [\n          0.87,\n          1.12,\n          0.77\n        ],\n        \"semantic_type\": \"\",\n        \"description\": \"\"\n      }\n    },\n    {\n      \"column\": \"od280/od315_of_diluted_wines\",\n      \"properties\": {\n        \"dtype\": \"number\",\n        \"std\": 0.5054404020257977,\n        \"min\": 2.31,\n        \"max\": 3.48,\n        \"num_unique_values\": 5,\n        \"samples\": [\n          3.33,\n          3.48,\n          2.31\n        ],\n        \"semantic_type\": \"\",\n        \"description\": \"\"\n      }\n    },\n    {\n      \"column\": \"proline\",\n      \"properties\": {\n        \"dtype\": \"number\",\n        \"std\": 323.75530883678186,\n        \"min\": 510.0,\n        \"max\": 1285.0,\n        \"num_unique_values\": 5,\n        \"samples\": [\n          1080.0,\n          510.0,\n          600.0\n        ],\n        \"semantic_type\": \"\",\n        \"description\": \"\"\n      }\n    },\n    {\n      \"column\": \"Class\",\n      \"properties\": {\n        \"dtype\": \"number\",\n        \"std\": 0,\n        \"min\": 0,\n        \"max\": 2,\n        \"num_unique_values\": 3,\n        \"samples\": [\n          0,\n          2,\n          1\n        ],\n        \"semantic_type\": \"\",\n        \"description\": \"\"\n      }\n    }\n  ]\n}"
            }
          },
          "metadata": {},
          "execution_count": 4
        }
      ],
      "source": [
        "# Load the Wine dataset\n",
        "wine = load_wine()\n",
        "\n",
        "# Convert to a DataFrame\n",
        "df = pd.DataFrame(wine.data, columns=wine.feature_names)\n",
        "df['Class'] = wine.target\n",
        "\n",
        "# Display some random rows of the dataset\n",
        "df.sample(n=5, random_state=random_seed)"
      ]
    },
    {
      "cell_type": "markdown",
      "metadata": {
        "id": "ngjFQTU1q0GD"
      },
      "source": [
        "Now that I have loaded the dataset, I need to prepare it for use in my classification learner.\n",
        "\n",
        "For better visualization of decision boundaries, I will only use 2 features in this project: alcohol and malic acid. I will store these features in a matrix $\\mathbf{X}$ where each row represents a data point and each column represents a feature.\n",
        "Additionally, I will store the labels (class) in a vector $\\mathbf{Y}$."
      ]
    },
    {
      "cell_type": "code",
      "execution_count": null,
      "metadata": {
        "id": "6ug6725Mq0GD"
      },
      "outputs": [],
      "source": [
        "# Select only the alcohol and malic acid features for simplicity\n",
        "X = df[['alcohol', 'malic_acid']].values\n",
        "Y = df['Class'].values\n",
        "\n",
        "# For binary classification, select class 0 (Barolo) and group the other two classes together to represent 1 (Not-Barolo)\n",
        "binary_mask = Y == 0\n",
        "Y_bin = np.where(binary_mask, 0, 1)"
      ]
    },
    {
      "cell_type": "markdown",
      "metadata": {
        "id": "4n5UU7irq0GD"
      },
      "source": [
        "Next, we will split the data into training and testing sets. We will use 65% of the data for training and 35% for testing."
      ]
    },
    {
      "cell_type": "code",
      "execution_count": null,
      "metadata": {
        "id": "PUH46fHBq0GD"
      },
      "outputs": [],
      "source": [
        "# Split the data into training and testing sets\n",
        "test_size = 0.35\n",
        "X_train_bin, X_test_bin, Y_train_bin, Y_test_bin = train_test_split(X, Y_bin, test_size=test_size, random_state=random_seed)\n",
        "X_train_mul, X_test_mul, Y_train_mul, Y_test_mul = train_test_split(X, Y, test_size=test_size, random_state=random_seed)"
      ]
    },
    {
      "cell_type": "code",
      "execution_count": null,
      "metadata": {
        "id": "1ttoe2YkvJpj"
      },
      "outputs": [],
      "source": [
        "# Split the data into training and testing sets\n",
        "test_size = 0.35\n",
        "X_train_bin, X_test_bin, Y_train_bin, Y_test_bin = train_test_split(X, Y_bin, test_size=test_size, random_state=random_seed)\n",
        "X_train_mul, X_test_mul, Y_train_mul, Y_test_mul = train_test_split(X, Y, test_size=test_size, random_state=random_seed)"
      ]
    },
    {
      "cell_type": "markdown",
      "metadata": {
        "id": "GeO5SbB6q0GD"
      },
      "source": [
        "### Plotting the Multiclass Dataset\n",
        "\n",
        "The plot below visualizes the training and test sets for the multiclass classification dataset, which includes the Barolo, Grignolino, and Barbera classes.\n",
        "\n",
        "In both plots you should see three distinct clusters of points representing the three classes."
      ]
    },
    {
      "cell_type": "markdown",
      "metadata": {
        "id": "Lj5QOPgyq0GG"
      },
      "source": [
        "# Part 2: Multiclass Classification\n",
        "\n",
        "In multiclass classification, the set of labels $\\mathcal{Y}$ contains more than 2 classes.\n",
        "In our particular case, the set of labels $\\mathcal{Y} = \\{0, 1, 2\\}$ represents the cultivar of the wine (Barolo, Grignolino, Barbera).\n",
        "Thus, we will be using all the labels in our dataset from now on, represented as the matrix `Y`."
      ]
    },
    {
      "cell_type": "code",
      "execution_count": null,
      "metadata": {
        "id": "6_y7nlV0q0GD",
        "colab": {
          "base_uri": "https://localhost:8080/",
          "height": 49,
          "referenced_widgets": [
            "186592ede81c4e468e2a6b965f89961b",
            "6bede2bce98e4ca98c25c0b1b2506774",
            "bd4ac8113abe47a3b8f902d5956d7125",
            "fffa640aa47c4f3a83ba10e0358b30f0",
            "2d5e14283bb54024b36bdf1ef6e2b4d4"
          ]
        },
        "outputId": "86fb13d3-3a53-49ab-a4b6-73b2d90f04c7"
      },
      "outputs": [
        {
          "output_type": "display_data",
          "data": {
            "text/plain": [
              "Checkbox(value=False, description='Show Plot')"
            ],
            "application/vnd.jupyter.widget-view+json": {
              "version_major": 2,
              "version_minor": 0,
              "model_id": "186592ede81c4e468e2a6b965f89961b"
            }
          },
          "metadata": {
            "application/vnd.jupyter.widget-view+json": {
              "colab": {
                "custom_widget_manager": {
                  "url": "https://ssl.gstatic.com/colaboratory-static/widgets/colab-cdn-widget-manager/2b70e893a8ba7c0f/manager.min.js"
                }
              }
            }
          }
        },
        {
          "output_type": "display_data",
          "data": {
            "text/plain": [
              "Output()"
            ],
            "application/vnd.jupyter.widget-view+json": {
              "version_major": 2,
              "version_minor": 0,
              "model_id": "fffa640aa47c4f3a83ba10e0358b30f0"
            }
          },
          "metadata": {
            "application/vnd.jupyter.widget-view+json": {
              "colab": {
                "custom_widget_manager": {
                  "url": "https://ssl.gstatic.com/colaboratory-static/widgets/colab-cdn-widget-manager/2b70e893a8ba7c0f/manager.min.js"
                }
              }
            }
          }
        }
      ],
      "source": [
        "# @title Plot\n",
        "\n",
        "# Function to plot the training and testing sets for multiclass classification\n",
        "def plot_multiclass_train_test(show_plot):\n",
        "    if show_plot:\n",
        "        fig, axes = plt.subplots(1, 2, figsize=(15, 6))\n",
        "\n",
        "        # Plot training data\n",
        "        axes[0].scatter(X_train_norm_mul[Y_train_mul == 0][:, 1], X_train_norm_mul[Y_train_mul == 0][:, 2], color='red', label='Barolo', s=50)\n",
        "        axes[0].scatter(X_train_norm_mul[Y_train_mul == 1][:, 1], X_train_norm_mul[Y_train_mul == 1][:, 2], color='blue', label='Grignolino', s=50)\n",
        "        axes[0].scatter(X_train_norm_mul[Y_train_mul == 2][:, 1], X_train_norm_mul[Y_train_mul == 2][:, 2], color='green', label='Barbera', s=50)\n",
        "        axes[0].set_xlabel('Alcohol (normalized)')\n",
        "        axes[0].set_ylabel('Malic Acid (normalized)')\n",
        "        axes[0].set_title('Training Set')\n",
        "        axes[0].set_ylim(-2.2, 3.8)\n",
        "        axes[0].set_xlim(-2.8, 2.8)\n",
        "        axes[0].legend()\n",
        "\n",
        "        # Plot testing data\n",
        "        axes[1].scatter(X_test_norm_mul[Y_test_mul == 0][:, 1], X_test_norm_mul[Y_test_mul == 0][:, 2], color='red', label='Barolo', s=50)\n",
        "        axes[1].scatter(X_test_norm_mul[Y_test_mul == 1][:, 1], X_test_norm_mul[Y_test_mul == 1][:, 2], color='blue', label='Grignolino', s=50)\n",
        "        axes[1].scatter(X_test_norm_mul[Y_test_mul == 2][:, 1], X_test_norm_mul[Y_test_mul == 2][:, 2], color='green', label='Barbera', s=50)\n",
        "        axes[1].set_xlabel('Alcohol (normalized)')\n",
        "        axes[1].set_ylabel('Malic Acid (normalized)')\n",
        "        axes[1].set_title('Test Set')\n",
        "        axes[1].set_ylim(-2.2, 3.8)\n",
        "        axes[1].set_xlim(-2.8, 2.8)\n",
        "        axes[1].legend()\n",
        "\n",
        "        plt.show()\n",
        "    else:\n",
        "        clear_output()\n",
        "\n",
        "# Create a checkbox widget\n",
        "show_plot_checkbox_multiclass_train_test = widgets.Checkbox(value=False, description='Show Plot')\n",
        "\n",
        "# Use interactive_output to link the function with the checkbox\n",
        "interactive_plot_multiclass_train_test = interactive_output(plot_multiclass_train_test, {'show_plot': show_plot_checkbox_multiclass_train_test})\n",
        "\n",
        "# Display the checkbox and the plot\n",
        "display(show_plot_checkbox_multiclass_train_test, interactive_plot_multiclass_train_test)"
      ]
    },
    {
      "cell_type": "markdown",
      "metadata": {
        "id": "BJYeCfyRq0GD"
      },
      "source": [
        "For the final step of preprocessing, we will normalize the data and add a column of ones to the feature matrix to account for the bias term."
      ]
    },
    {
      "cell_type": "code",
      "execution_count": null,
      "metadata": {
        "id": "kf31LViuq0GD"
      },
      "outputs": [],
      "source": [
        "# Normalize the features\n",
        "X_mean_bin = X_train_bin.mean(axis=0)\n",
        "X_std_bin = X_train_bin.std(axis=0) + 1e-8\n",
        "X_train_norm_bin = (X_train_bin - X_mean_bin) / X_std_bin\n",
        "X_test_norm_bin = (X_test_bin - X_mean_bin) / X_std_bin\n",
        "\n",
        "X_mean_mul = X_train_mul.mean(axis=0)\n",
        "X_std_mul = X_train_mul.std(axis=0) + 1e-8\n",
        "X_train_norm_mul = (X_train_mul - X_mean_mul) / X_std_mul\n",
        "X_test_norm_mul = (X_test_bin - X_mean_mul) / X_std_mul\n",
        "\n",
        "# Append a column of 1s to the features for the bias term\n",
        "X_train_norm_bin = np.hstack([np.ones((X_train_norm_bin.shape[0], 1)), X_train_norm_bin])\n",
        "X_test_norm_bin = np.hstack([np.ones((X_test_norm_bin.shape[0], 1)), X_test_norm_bin])\n",
        "X_train_norm_mul = np.hstack([np.ones((X_train_norm_mul.shape[0], 1)), X_train_norm_mul])\n",
        "X_test_norm_mul = np.hstack([np.ones((X_test_norm_mul.shape[0], 1)), X_test_norm_mul])"
      ]
    },
    {
      "cell_type": "markdown",
      "source": [
        "## Implementing SoftMax function"
      ],
      "metadata": {
        "id": "eOTpAFRJv_zJ"
      }
    },
    {
      "cell_type": "code",
      "execution_count": null,
      "metadata": {
        "tags": [
          "otter_answer_cell"
        ],
        "id": "YdyHyxZ9q0GG"
      },
      "outputs": [],
      "source": [
        "def softmax(Z):\n",
        "    \"\"\"\n",
        "    Compute the softmax of each row of the input array.\n",
        "\n",
        "    Parameters:\n",
        "    z (numpy array): Input array of shape (n, K) where n is the number of samples and K is the number of classes.\n",
        "\n",
        "    Returns:\n",
        "    result (numpy array): Softmax probabilities of shape (n, K).\n",
        "    \"\"\"\n",
        "\n",
        "    result = np.zeros(Z.shape)\n",
        "    for i in range(Z.shape[0]): #Gives n\n",
        "        #Updating row by row\n",
        "        result[i] = (np.exp(Z[i] - np.max(Z[i])))/(np.sum(np.exp(Z[i] - np.max(Z[i]))))\n",
        "\n",
        "\n",
        "    return result"
      ]
    },
    {
      "cell_type": "markdown",
      "source": [
        "## Implementing BGS Regression Learner"
      ],
      "metadata": {
        "id": "gBGq2QVPwTEs"
      }
    },
    {
      "cell_type": "code",
      "execution_count": null,
      "metadata": {
        "tags": [
          "otter_answer_cell"
        ],
        "id": "bIfG_iYvq0GG"
      },
      "outputs": [],
      "source": [
        "def bgd_softmax_regression_learner(X, Y, step_size=0.01, epochs=10, random_seed=42):\n",
        "    \"\"\"\n",
        "    Trains a softmax regression model using batch gradient descent.\n",
        "\n",
        "    Parameters:\n",
        "    X (numpy array): Feature matrix of size (n, d+1), where n is the number of samples\n",
        "                     and d is the number of features. The first column should be all 1s.\n",
        "    Y (numpy array): Target vector of size (n,) with class labels.\n",
        "    step_size (float): The step size for gradient descent.\n",
        "    epochs (int): The number of iterations to run gradient descent.\n",
        "    random_seed (int, optional): The seed for the random number generator.\n",
        "\n",
        "    Returns:\n",
        "    predictor (function): A function that takes a feature vector or matrix and returns predicted probabilities.\n",
        "    W (numpy array): The final weights after applying gradient descent for the specified epochs.\n",
        "    \"\"\"\n",
        "    np.random.seed(random_seed)\n",
        "    n, d = X[:, 1:].shape\n",
        "    K = len(np.unique(Y))  # Number of classes\n",
        "    W = np.random.randn(d+1, K)  # Initialize the weights randomly\n",
        "\n",
        "    one_hot_y = np.zeros((n, K)) #Dimensions of one_hot matrix\n",
        "    for i in range(n):\n",
        "      one_hot_y[i, Y[i]] = 1\n",
        "\n",
        "    for i in range(epochs):\n",
        "      W -= step_size*(1/n)*(X.T @ (softmax(X @ W) - one_hot_y))\n",
        "\n",
        "    def predictor(x):\n",
        "        return softmax(x @ W)\n",
        "\n",
        "    return predictor, W"
      ]
    },
    {
      "cell_type": "markdown",
      "source": [
        "## Implementing Cross Entropy Loss function"
      ],
      "metadata": {
        "id": "s09ksoUcwdfu"
      }
    },
    {
      "cell_type": "code",
      "execution_count": null,
      "metadata": {
        "tags": [
          "otter_answer_cell"
        ],
        "id": "MQ9jXRagq0GG"
      },
      "outputs": [],
      "source": [
        "def multiclass_cross_entropy_loss(Y_pred, Y):\n",
        "    \"\"\"\n",
        "    Compute the cross-entropy loss for multiclass classification.\n",
        "\n",
        "    Parameters:\n",
        "    Y_pred (numpy array): Predicted probabilities of shape (n, K) where n is the number of samples and K is the number of classes.\n",
        "    Y (numpy array): True labels (0, 1, 2) of shape (n,).\n",
        "\n",
        "    Returns:\n",
        "    loss (numpy array): Cross-entropy loss of shape (n,).\n",
        "    \"\"\"\n",
        "    # Clip predictions to avoid log(0)\n",
        "    Y_pred = np.clip(Y_pred, 1e-15, 1 - 1e-15)\n",
        "\n",
        "    loss = np.zeros(Y.shape)\n",
        "\n",
        "    #Getting variables for Indicator function\n",
        "    n = Y_pred.shape[0]\n",
        "    K = Y_pred.shape[1]\n",
        "\n",
        "    one_hot_y = np.zeros((n, K)) #Dimensions of one_hot matrix\n",
        "    for i in range(n):\n",
        "      one_hot_y[i, Y[i]] = 1\n",
        "\n",
        "    for i in range(n):\n",
        "        loss[i] = -(np.sum(one_hot_y[i] * np.log(Y_pred)))/n\n",
        "\n",
        "    return loss"
      ]
    },
    {
      "cell_type": "markdown",
      "metadata": {
        "id": "uD1fgBzuq0GH"
      },
      "source": [
        "## Plotting the Estimated Zero-One Loss\n",
        "\n",
        "Similar to the binary classification problem, we would like to evaluate the performance of the multiclass classification learner using the zero-one loss function.\n",
        "\n",
        "If your implementation of `multiclass_cross_entropy_loss` is correct, you should see the zero-one loss decrease as the number of epochs increases in the plot below.\n",
        "However, it likely will not decrease as smoothly as the cross-entropy loss, since the `bgd_softmax_regression_learner` is not directly minimizing the zero-one loss."
      ]
    },
    {
      "cell_type": "code",
      "execution_count": null,
      "metadata": {
        "id": "x_3VLeHgq0GH",
        "cellView": "form",
        "colab": {
          "base_uri": "https://localhost:8080/",
          "height": 382,
          "referenced_widgets": [
            "6eccbf07263c446a8de188d4ec5c7759",
            "2726189c77c542aba005dbad12398cd3",
            "797ba2a20ecc426e8771e90826c75f2d",
            "c28ac10cc20a4f24a902a6f8deff0316",
            "03f5ea0b9bf74080aa154ef4d1f93b62"
          ]
        },
        "outputId": "c80e8bea-f50c-4518-b19e-406c3d8b555f"
      },
      "outputs": [
        {
          "output_type": "display_data",
          "data": {
            "text/plain": [
              "Checkbox(value=False, description='Show Plot')"
            ],
            "application/vnd.jupyter.widget-view+json": {
              "version_major": 2,
              "version_minor": 0,
              "model_id": "6eccbf07263c446a8de188d4ec5c7759"
            }
          },
          "metadata": {
            "application/vnd.jupyter.widget-view+json": {
              "colab": {
                "custom_widget_manager": {
                  "url": "https://ssl.gstatic.com/colaboratory-static/widgets/colab-cdn-widget-manager/2b70e893a8ba7c0f/manager.min.js"
                }
              }
            }
          }
        },
        {
          "output_type": "display_data",
          "data": {
            "text/plain": [
              "Output()"
            ],
            "application/vnd.jupyter.widget-view+json": {
              "version_major": 2,
              "version_minor": 0,
              "model_id": "c28ac10cc20a4f24a902a6f8deff0316"
            }
          },
          "metadata": {
            "application/vnd.jupyter.widget-view+json": {
              "colab": {
                "custom_widget_manager": {
                  "url": "https://ssl.gstatic.com/colaboratory-static/widgets/colab-cdn-widget-manager/2b70e893a8ba7c0f/manager.min.js"
                }
              }
            }
          }
        }
      ],
      "source": [
        "# @title Plot\n",
        "\n",
        "# Function to show/hide the plot\n",
        "def plot_ce_zo_loss_multi(show_plot):\n",
        "    # Define the number of epochs\n",
        "    epochs = 200\n",
        "\n",
        "    # Initialize lists to store the loss values\n",
        "    cross_entropy_loss_values = []\n",
        "    zero_one_loss_values = []\n",
        "\n",
        "    # Train the model and compute the loss for each epoch\n",
        "    for epoch in range(1, epochs + 1):\n",
        "        predictor, W = bgd_softmax_regression_learner(X_train_norm_mul, Y_train_mul, step_size=0.1, epochs=epoch, random_seed=random_seed)\n",
        "        loss = estimated_loss(predictor, X_train_norm_mul, Y_train_mul, multiclass_cross_entropy_loss)\n",
        "        cross_entropy_loss_values.append(loss)\n",
        "\n",
        "        # Compute 0-1 loss\n",
        "        predictor_class, W = multiclass_classification_learner(X_train_norm_mul, Y_train_mul, step_size=0.1, epochs=epoch, random_seed=random_seed)\n",
        "        zero_one_loss_value = estimated_loss(predictor_class, X_train_norm_mul, Y_train_mul, zero_one_loss)\n",
        "        zero_one_loss_values.append(zero_one_loss_value)\n",
        "\n",
        "    if show_plot:\n",
        "        # Plot the loss values\n",
        "        plt.figure(figsize=(10, 6))\n",
        "        plt.plot(range(1, epochs + 1), cross_entropy_loss_values, label='Cross-Entropy Loss', linewidth=3)\n",
        "        plt.plot(range(1, epochs + 1), zero_one_loss_values, label='Zero-One Loss', linewidth=3)\n",
        "        plt.xlabel('Epochs')\n",
        "        plt.ylabel('Estimated Loss')\n",
        "        plt.legend()\n",
        "        plt.grid(True)\n",
        "        plt.show()\n",
        "    else:\n",
        "        clear_output()\n",
        "\n",
        "# Create a checkbox widget\n",
        "show_plot_checkbox_ce_zo_loss_multi = widgets.Checkbox(value=False, description='Show Plot')\n",
        "\n",
        "# Use interactive_output to link the function with the checkbox\n",
        "interactive_plot_ce_zo_loss_multi = interactive_output(plot_ce_zo_loss_multi, {'show_plot': show_plot_checkbox_ce_zo_loss_multi})\n",
        "\n",
        "# Display the checkbox and the plot\n",
        "display(show_plot_checkbox_ce_zo_loss_multi, interactive_plot_ce_zo_loss_multi)"
      ]
    },
    {
      "cell_type": "markdown",
      "metadata": {
        "id": "jpRthMPSq0GH"
      },
      "source": [
        "## Plotting a Linear Decision Boundary\n",
        "\n",
        "The multiclass classification predictor outputs the class with the highest probability.\n",
        "Since the probability of a class $y \\in \\cal{Y}$ is given by $\\sigma_y(\\mathbf{x}^\\top \\mathbf{w}_y)$, it implies that the class with the highest probability is the class with the highest value of $\\mathbf{x}^\\top \\mathbf{w}_y$.\n",
        "If we have two different classes $y, y' \\in \\cal{Y}$, the decision boundary between these two classes is given by the line $\\mathbf{x}^\\top (\\mathbf{w}_y - \\mathbf{w}_{y'}) = 0$.\n",
        "This line represents when the predicted probability of class $y$ is equal to the predicted probability of class $y'$.\n",
        "Thus, anything to one side of the line will be predicted as class $y$ and anything to the other side will be predicted as class $y'$.\n",
        "\n",
        "Below we plot this decision boundary for all possible pairs of classes."
      ]
    },
    {
      "cell_type": "code",
      "execution_count": null,
      "metadata": {
        "id": "afm8pdMAq0GH",
        "cellView": "form",
        "colab": {
          "base_uri": "https://localhost:8080/",
          "height": 49,
          "referenced_widgets": [
            "6e6cecb09696431ba056ae3e76d5b461",
            "71d7a2ded3bd4c129926c762217a4023",
            "2daad25a367e41cfa85cdbd9d0eea6d1",
            "05d874bce26646e38a8d4c7215b95c52",
            "d10a0202b7864907988ea7ffd9de3c95"
          ]
        },
        "outputId": "dc544a83-c781-466f-ab76-a86b263aa0f9"
      },
      "outputs": [
        {
          "output_type": "display_data",
          "data": {
            "text/plain": [
              "Checkbox(value=False, description='Show Plot')"
            ],
            "application/vnd.jupyter.widget-view+json": {
              "version_major": 2,
              "version_minor": 0,
              "model_id": "6e6cecb09696431ba056ae3e76d5b461"
            }
          },
          "metadata": {
            "application/vnd.jupyter.widget-view+json": {
              "colab": {
                "custom_widget_manager": {
                  "url": "https://ssl.gstatic.com/colaboratory-static/widgets/colab-cdn-widget-manager/2b70e893a8ba7c0f/manager.min.js"
                }
              }
            }
          }
        },
        {
          "output_type": "display_data",
          "data": {
            "text/plain": [
              "Output()"
            ],
            "application/vnd.jupyter.widget-view+json": {
              "version_major": 2,
              "version_minor": 0,
              "model_id": "05d874bce26646e38a8d4c7215b95c52"
            }
          },
          "metadata": {
            "application/vnd.jupyter.widget-view+json": {
              "colab": {
                "custom_widget_manager": {
                  "url": "https://ssl.gstatic.com/colaboratory-static/widgets/colab-cdn-widget-manager/2b70e893a8ba7c0f/manager.min.js"
                }
              }
            }
          }
        }
      ],
      "source": [
        "# @title Plot\n",
        "\n",
        "# Function to show/hide the plot\n",
        "def plot_db_multi(show_plot):\n",
        "    # Function to plot the multiclass decision boundary\n",
        "    def plot_multiclass_decision_boundary(X, Y, f, title, ax):\n",
        "        # Create a mesh grid\n",
        "        x_min, x_max = -2.8, 2.8  # Hardcoded x-limits\n",
        "        y_min, y_max = -2.2, 3.8  # Hardcoded y-limits\n",
        "        xx, yy = np.meshgrid(np.arange(x_min, x_max, 0.01),\n",
        "                            np.arange(y_min, y_max, 0.01))\n",
        "\n",
        "        # Compute the decision boundary\n",
        "        Z = f(np.c_[np.ones((xx.ravel().shape[0], 1)), xx.ravel(), yy.ravel()])\n",
        "        Z = Z.reshape(xx.shape)\n",
        "\n",
        "        # Plot the decision boundary\n",
        "        ax.contourf(xx, yy, Z, alpha=0.8, levels=[-1, 0, 1, 2], colors=['#FFAAAA', '#AAAAFF', '#AAFFAA'])\n",
        "        ax.scatter(X[Y == 0][:, 1], X[Y == 0][:, 2], color='red', label='Barolo', s=50)\n",
        "        ax.scatter(X[Y == 1][:, 1], X[Y == 1][:, 2], color='blue', label='Grignolino', s=50)\n",
        "        ax.scatter(X[Y == 2][:, 1], X[Y == 2][:, 2], color='green', label='Barbera', s=50)\n",
        "        ax.set_xlabel('Alcohol (normalized)')\n",
        "        ax.set_ylabel('Malic Acid (normalized)')\n",
        "        ax.set_title(title)\n",
        "\n",
        "        # Hardcoded limits to ensure consistency across both plots\n",
        "        ax.set_xlim(x_min, x_max)\n",
        "        ax.set_ylim(y_min, y_max)\n",
        "        ax.legend()\n",
        "\n",
        "    epochs = 10000\n",
        "\n",
        "    if show_plot:\n",
        "        fig, axes = plt.subplots(1, 2, figsize=(15, 6))\n",
        "\n",
        "        predictor, W = multiclass_classification_learner(X_train_norm_mul, Y_train_mul, step_size=0.1, epochs=epochs, random_seed=random_seed)\n",
        "        # Plot the decision boundary on the training set\n",
        "        plot_multiclass_decision_boundary(X_train_norm_mul, Y_train_mul, predictor, 'Training Set', axes[0])\n",
        "\n",
        "        # Plot the decision boundary on the test set\n",
        "        plot_multiclass_decision_boundary(X_test_norm_mul, Y_test_mul, predictor, 'Test Set', axes[1])\n",
        "\n",
        "        plt.show()\n",
        "    else:\n",
        "        clear_output()\n",
        "\n",
        "# Create a checkbox widget\n",
        "show_plot_checkbox_db_multi = widgets.Checkbox(value=False, description='Show Plot')\n",
        "\n",
        "# Use interactive_output to link the function with the checkbox\n",
        "interactive_plot_db_multi = interactive_output(plot_db_multi, {'show_plot': show_plot_checkbox_db_multi})\n",
        "\n",
        "# Display the checkbox and the plot\n",
        "display(show_plot_checkbox_db_multi, interactive_plot_db_multi)"
      ]
    },
    {
      "cell_type": "markdown",
      "metadata": {
        "id": "5kd5HkNIq0GH"
      },
      "source": [
        "## Plotting Polynomial Decision Boundaries\n",
        "\n",
        "We use polynomial features to allow for more complex decision boundaries in the multiclass classification problem.\n",
        "Below is a plot of the decision boundary for different polynomial degrees $p$.\n",
        "You should see that as $p$ increases the decision boundary becomes more complex and can better separate the three classes in the training set.\n",
        "However, if $p$ is too large, then the decision boundary may become too complex and overfit the training data, leading to poor performance on the test set."
      ]
    },
    {
      "cell_type": "code",
      "execution_count": null,
      "metadata": {
        "id": "4gitVCqeq0GH",
        "colab": {
          "base_uri": "https://localhost:8080/",
          "height": 79,
          "referenced_widgets": [
            "35b571f1a50a485f80ad9fdee5c69573",
            "e36374b2f1184fc3bb0d4ee32aa7605f",
            "5b172f7ba6d844ddaf5895956dea8a85",
            "e63f19f343e74efa972df418078f4394",
            "916bc3d61ce041a2b4308c26ad19caf4",
            "3e7312d9f3ed486bac1c871f76bb8060",
            "2e434be96e874236a3455d62b171c24f",
            "ea2db69e0a234577b3317336548f2f13"
          ]
        },
        "outputId": "d114de9a-70f1-49c3-d10a-2ed076983d95",
        "cellView": "form"
      },
      "outputs": [
        {
          "output_type": "display_data",
          "data": {
            "text/plain": [
              "Checkbox(value=False, description='Show Plot')"
            ],
            "application/vnd.jupyter.widget-view+json": {
              "version_major": 2,
              "version_minor": 0,
              "model_id": "35b571f1a50a485f80ad9fdee5c69573"
            }
          },
          "metadata": {
            "application/vnd.jupyter.widget-view+json": {
              "colab": {
                "custom_widget_manager": {
                  "url": "https://ssl.gstatic.com/colaboratory-static/widgets/colab-cdn-widget-manager/2b70e893a8ba7c0f/manager.min.js"
                }
              }
            }
          }
        },
        {
          "output_type": "display_data",
          "data": {
            "text/plain": [
              "IntSlider(value=1, description='Degree', max=10, min=1, step=0)"
            ],
            "application/vnd.jupyter.widget-view+json": {
              "version_major": 2,
              "version_minor": 0,
              "model_id": "e63f19f343e74efa972df418078f4394"
            }
          },
          "metadata": {
            "application/vnd.jupyter.widget-view+json": {
              "colab": {
                "custom_widget_manager": {
                  "url": "https://ssl.gstatic.com/colaboratory-static/widgets/colab-cdn-widget-manager/2b70e893a8ba7c0f/manager.min.js"
                }
              }
            }
          }
        },
        {
          "output_type": "display_data",
          "data": {
            "text/plain": [
              "Output()"
            ],
            "application/vnd.jupyter.widget-view+json": {
              "version_major": 2,
              "version_minor": 0,
              "model_id": "2e434be96e874236a3455d62b171c24f"
            }
          },
          "metadata": {
            "application/vnd.jupyter.widget-view+json": {
              "colab": {
                "custom_widget_manager": {
                  "url": "https://ssl.gstatic.com/colaboratory-static/widgets/colab-cdn-widget-manager/2b70e893a8ba7c0f/manager.min.js"
                }
              }
            }
          }
        }
      ],
      "source": [
        "# @title Plot\n",
        "\n",
        "# Function to show/hide the plots and update the polynomial degree\n",
        "def plot_db_multi_poly(show_plot, degree):\n",
        "    # Define the decision boundary function for polynomial features\n",
        "    def plot_multiclass_decision_boundary_poly(X, Y, f, degree, title, X_poly_mean=None, X_poly_std=None, ax=None):\n",
        "        # Create a mesh grid\n",
        "        x_min, x_max = -2.8, 2.8  # Hardcoded x-limits\n",
        "        y_min, y_max = -2.2, 3.8  # Hardcoded y-limits\n",
        "        xx, yy = np.meshgrid(np.arange(x_min, x_max, 0.01),\n",
        "                            np.arange(y_min, y_max, 0.01))\n",
        "\n",
        "        # Transform the mesh grid to polynomial features\n",
        "        poly_features = phi_p(np.c_[xx.ravel(), yy.ravel()], degree)\n",
        "\n",
        "        # Normalize the polynomial features using the same mean and std as the training set\n",
        "        poly_features = (poly_features - X_poly_mean) / X_poly_std\n",
        "\n",
        "        # Append a column of 1s to the features for the bias term\n",
        "        poly_features = np.hstack([np.ones((poly_features.shape[0], 1)), poly_features])\n",
        "\n",
        "        # Compute the decision boundary\n",
        "        # Z = poly_features.dot(W)\n",
        "        # Z = np.argmax(Z, axis=1)\n",
        "        Z = f(poly_features)\n",
        "        Z = Z.reshape(xx.shape)\n",
        "\n",
        "        # Plot the decision boundary\n",
        "        ax.contourf(xx, yy, Z, alpha=0.8, levels=[-1, 0, 1, 2], colors=['#FFAAAA', '#AAAAFF', '#AAFFAA'])\n",
        "        ax.scatter(X[Y == 0][:, 1], X[Y == 0][:, 2], color='red', label='Barolo', s=50)\n",
        "        ax.scatter(X[Y == 1][:, 1], X[Y == 1][:, 2], color='blue', label='Grignolino', s=50)\n",
        "        ax.scatter(X[Y == 2][:, 1], X[Y == 2][:, 2], color='green', label='Barbera', s=50)\n",
        "        ax.set_xlabel('Alcohol (normalized)')\n",
        "        ax.set_ylabel('Malic Acid (normalized)')\n",
        "        ax.set_ylim(y_min, y_max)\n",
        "        ax.set_xlim(x_min, x_max)\n",
        "        ax.set_title(title)\n",
        "        ax.legend()\n",
        "\n",
        "    epochs = 10000\n",
        "\n",
        "    if show_plot:\n",
        "        # Transform the input features to polynomial features of the selected degree\n",
        "        X_poly_train = phi_p(X_train_norm_mul[:, 1:], degree)\n",
        "        X_poly_test = phi_p(X_test_norm_mul[:, 1:], degree)\n",
        "\n",
        "        # Normalize the polynomial features\n",
        "        X_poly_mean = X_poly_train.mean(axis=0)\n",
        "        X_poly_std = X_poly_train.std(axis=0) + 1e-8\n",
        "        X_poly_train = (X_poly_train - X_poly_mean) / X_poly_std\n",
        "        X_poly_test = (X_poly_test - X_poly_mean) / X_poly_std\n",
        "\n",
        "        # Append a column of 1s to the features for the bias term\n",
        "        X_poly_train = np.hstack([np.ones((X_poly_train.shape[0], 1)), X_poly_train])\n",
        "        X_poly_test = np.hstack([np.ones((X_poly_test.shape[0], 1)), X_poly_test])\n",
        "\n",
        "        # Train the model using polynomial features\n",
        "        predictor_poly, w_poly = multiclass_classification_learner(X_poly_train, Y_train_mul, step_size=0.1, epochs=epochs, random_seed=random_seed)\n",
        "\n",
        "        fig, axes = plt.subplots(1, 2, figsize=(15, 6))\n",
        "\n",
        "        # Plot the decision boundary on the training set\n",
        "        plot_multiclass_decision_boundary_poly(X_poly_train, Y_train_mul, predictor_poly, degree, f'Training Set (Polynomial Degree {degree})', X_poly_mean, X_poly_std, axes[0])\n",
        "\n",
        "        # Plot the decision boundary on the test set\n",
        "        plot_multiclass_decision_boundary_poly(X_poly_test, Y_test_mul, predictor_poly, degree, f'Test Set (Polynomial Degree {degree})', X_poly_mean, X_poly_std, axes[1])\n",
        "\n",
        "        plt.show()\n",
        "    else:\n",
        "        clear_output()\n",
        "\n",
        "# Create a checkbox widget\n",
        "show_plot_checkbox_db_multi_poly = widgets.Checkbox(value=False, description='Show Plot')\n",
        "\n",
        "# Create a slider widget for selecting the polynomial degree\n",
        "degree_slider_db_multi_poly = widgets.IntSlider(value=1, min=1, max=10, step=0.5, description='Degree')\n",
        "\n",
        "# Use interactive_output to link the function with the checkbox and slider\n",
        "interactive_plot_db_multi_poly = interactive_output(plot_db_multi_poly, {'show_plot': show_plot_checkbox_db_multi_poly, 'degree': degree_slider_db_multi_poly})\n",
        "\n",
        "# Display the checkbox, slider, and the plot\n",
        "display(show_plot_checkbox_db_multi_poly, degree_slider_db_multi_poly, interactive_plot_db_multi_poly)"
      ]
    }
  ]
}